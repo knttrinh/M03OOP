{
 "cells": [
  {
   "cell_type": "code",
   "execution_count": null,
   "id": "199b3c6d-f774-4901-a4c8-1d09d0a9c775",
   "metadata": {},
   "outputs": [],
   "source": [
    "class Solution:\t\n",
    "\tdef binarysearch(arr, l, r, x):\n",
    "\t\tif r >= l:\n",
    "\t\t    mid = l+(r-l)//2\n",
    "\t\t    if arr[mid] == x:\n",
    "\t\t        return mid\n",
    "\t\t    elif arr[mid] > x:\n",
    "\t\t        return binarySearch(arr, mid+1, r, x)\n",
    "\t\t    else:\n",
    "\t\t        return-1\n",
    "\t\t        "
   ]
  }
 ],
 "metadata": {
  "kernelspec": {
   "display_name": "Python 3 (ipykernel)",
   "language": "python",
   "name": "python3"
  },
  "language_info": {
   "codemirror_mode": {
    "name": "ipython",
    "version": 3
   },
   "file_extension": ".py",
   "mimetype": "text/x-python",
   "name": "python",
   "nbconvert_exporter": "python",
   "pygments_lexer": "ipython3",
   "version": "3.11.7"
  }
 },
 "nbformat": 4,
 "nbformat_minor": 5
}
